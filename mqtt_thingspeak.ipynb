{
  "cells": [
    {
      "cell_type": "markdown",
      "metadata": {
        "id": "view-in-github",
        "colab_type": "text"
      },
      "source": [
        "<a href=\"https://colab.research.google.com/github/Kimheyyeon/mqtt_thingspeak/blob/main/mqtt_thingspeak.ipynb\" target=\"_parent\"><img src=\"https://colab.research.google.com/assets/colab-badge.svg\" alt=\"Open In Colab\"/></a>"
      ]
    },
    {
      "cell_type": "code",
      "execution_count": 17,
      "metadata": {
        "colab": {
          "base_uri": "https://localhost:8080/"
        },
        "id": "CZRw72wpXSdd",
        "outputId": "2d8ada56-fd35-4bc0-d406-18745d4d6894"
      },
      "outputs": [
        {
          "output_type": "stream",
          "name": "stdout",
          "text": [
            "Requirement already satisfied: paho-mqtt in /usr/local/lib/python3.10/dist-packages (2.0.0)\n"
          ]
        }
      ],
      "source": [
        "!pip install paho-mqtt"
      ]
    },
    {
      "cell_type": "code",
      "execution_count": 18,
      "metadata": {
        "id": "cXpxlwZIXXJu"
      },
      "outputs": [],
      "source": [
        "import json\n",
        "import requests\n",
        "n=0\n",
        "\n",
        "def doit(topic, payload):\n",
        "  global n\n",
        "  print(topic, payload)\n",
        "  j=json.loads(payload)\n",
        "  #print(j['co2'])\n",
        "  #url='https://api.thingspeak.com/update?api_key=MBXHFKNOS3NTXOGA'\n",
        "  url='https://api.thingspeak.com/update?api_key=M7POQ8QJCVEAX19Y'\n",
        "  url +='&field1='+j['co2']\n",
        "  url +='&field2='+j['bme680'].split(',')[0]\n",
        "  if n>15:\n",
        "    r=requests.get(url)\n",
        "    print(url, r.text)\n",
        "    n=0\n",
        "  n+=1"
      ]
    },
    {
      "cell_type": "code",
      "execution_count": null,
      "metadata": {
        "colab": {
          "base_uri": "https://localhost:8080/"
        },
        "id": "HEbdZNjhXX6E",
        "outputId": "98825ebd-d46d-4d1f-e78b-92baca16f90d"
      },
      "outputs": [
        {
          "output_type": "stream",
          "name": "stdout",
          "text": [
            "Connected with result code Success\n",
            "connectware/indoor/data/1501 {\"dust\":\"35,42\",\"co2\":\"395\",\"bme680\":\"23.99,20.43,4468438,100866,38.29\",\"time\":\"2024-04-07 19:08:00\", \"serial\":272534, \"ip\":\"203.255.190.49\"}\n",
            "connectware/indoor/data/1501 {\"dust\":\"34,40\",\"co2\":\"395\",\"bme680\":\"23.99,20.44,4494570,100866,38.29\",\"time\":\"2024-04-07 19:08:01\", \"serial\":272535, \"ip\":\"203.255.190.49\"}\n",
            "connectware/indoor/data/1501 {\"dust\":\"35,42\",\"co2\":\"395\",\"bme680\":\"23.99,20.44,4479600,100866,38.29\",\"time\":\"2024-04-07 19:08:02\", \"serial\":272536, \"ip\":\"203.255.190.49\"}\n",
            "connectware/indoor/data/1501 {\"dust\":\"35,42\",\"co2\":\"395\",\"bme680\":\"23.99,20.43,4457332,100865,38.37\",\"time\":\"2024-04-07 19:08:03\", \"serial\":272537, \"ip\":\"203.255.190.49\"}\n",
            "connectware/indoor/data/1501 {\"dust\":\"35,44\",\"co2\":\"395\",\"bme680\":\"23.99,20.43,4483333,100865,38.37\",\"time\":\"2024-04-07 19:08:04\", \"serial\":272538, \"ip\":\"203.255.190.49\"}\n",
            "connectware/indoor/data/1501 {\"dust\":\"35,42\",\"co2\":\"395\",\"bme680\":\"23.99,20.43,4502092,100866,38.29\",\"time\":\"2024-04-07 19:08:05\", \"serial\":272539, \"ip\":\"203.255.190.49\"}\n",
            "connectware/indoor/data/1501 {\"dust\":\"35,41\",\"co2\":\"395\",\"bme680\":\"23.99,20.42,4479600,100865,38.29\",\"time\":\"2024-04-07 19:08:06\", \"serial\":272540, \"ip\":\"203.255.190.49\"}\n",
            "connectware/indoor/data/1501 {\"dust\":\"35,40\",\"co2\":\"395\",\"bme680\":\"23.99,20.43,4490818,100865,38.29\",\"time\":\"2024-04-07 19:08:07\", \"serial\":272541, \"ip\":\"203.255.190.49\"}\n",
            "connectware/indoor/data/1501 {\"dust\":\"35,40\",\"co2\":\"395\",\"bme680\":\"23.99,20.43,4472153,100866,38.29\",\"time\":\"2024-04-07 19:08:08\", \"serial\":272542, \"ip\":\"203.255.190.49\"}\n",
            "connectware/indoor/data/1501 {\"dust\":\"34,39\",\"co2\":\"395\",\"bme680\":\"23.99,20.44,4490818,100865,38.37\",\"time\":\"2024-04-07 19:08:09\", \"serial\":272543, \"ip\":\"203.255.190.49\"}\n",
            "connectware/indoor/data/1501 {\"dust\":\"34,39\",\"co2\":\"395\",\"bme680\":\"23.99,20.43,4464730,100866,38.29\",\"time\":\"2024-04-07 19:08:10\", \"serial\":272544, \"ip\":\"203.255.190.49\"}\n",
            "connectware/indoor/data/1501 {\"dust\":\"34,38\",\"co2\":\"395\",\"bme680\":\"23.99,20.43,4464730,100867,38.12\",\"time\":\"2024-04-07 19:08:11\", \"serial\":272545, \"ip\":\"203.255.190.49\"}\n",
            "connectware/indoor/data/1501 {\"dust\":\"34,38\",\"co2\":\"395\",\"bme680\":\"23.99,20.43,4487072,100868,38.12\",\"time\":\"2024-04-07 19:08:12\", \"serial\":272546, \"ip\":\"203.255.190.49\"}\n",
            "connectware/indoor/data/1501 {\"dust\":\"34,38\",\"co2\":\"395\",\"bme680\":\"23.99,20.43,4505863,100867,38.12\",\"time\":\"2024-04-07 19:08:13\", \"serial\":272547, \"ip\":\"203.255.190.49\"}\n",
            "connectware/indoor/data/1501 {\"dust\":\"36,41\",\"co2\":\"395\",\"bme680\":\"23.99,20.43,4490818,100868,38.12\",\"time\":\"2024-04-07 19:08:14\", \"serial\":272548, \"ip\":\"203.255.190.49\"}\n",
            "connectware/indoor/data/1501 {\"dust\":\"35,41\",\"co2\":\"395\",\"bme680\":\"23.99,20.43,4461028,100866,38.20\",\"time\":\"2024-04-07 19:08:15\", \"serial\":272549, \"ip\":\"203.255.190.49\"}\n",
            "connectware/indoor/data/1501 {\"dust\":\"35,42\",\"co2\":\"395\",\"bme680\":\"23.99,20.43,4487072,100867,38.29\",\"time\":\"2024-04-07 19:08:16\", \"serial\":272550, \"ip\":\"203.255.190.49\"}\n",
            "https://api.thingspeak.com/update?api_key=M7POQ8QJCVEAX19Y&field1=395&field2=23.99 4\n",
            "connectware/indoor/data/1501 {\"dust\":\"36,42\",\"co2\":\"395\",\"bme680\":\"23.99,20.43,4487072,100864,38.29\",\"time\":\"2024-04-07 19:08:17\", \"serial\":272551, \"ip\":\"203.255.190.49\"}\n",
            "connectware/indoor/data/1501 {\"dust\":\"37,44\",\"co2\":\"395\",\"bme680\":\"23.99,20.42,4479600,100864,38.45\",\"time\":\"2024-04-07 19:08:18\", \"serial\":272552, \"ip\":\"203.255.190.49\"}\n",
            "connectware/indoor/data/1501 {\"dust\":\"38,45\",\"co2\":\"395\",\"bme680\":\"23.99,20.44,4475873,100864,38.37\",\"time\":\"2024-04-07 19:08:19\", \"serial\":272553, \"ip\":\"203.255.190.49\"}\n",
            "connectware/indoor/data/1501 {\"dust\":\"37,44\",\"co2\":\"395\",\"bme680\":\"23.99,20.43,4475873,100864,38.45\",\"time\":\"2024-04-07 19:08:20\", \"serial\":272554, \"ip\":\"203.255.190.49\"}\n",
            "connectware/indoor/data/1501 {\"dust\":\"37,44\",\"co2\":\"395\",\"bme680\":\"23.99,20.43,4494570,100864,38.45\",\"time\":\"2024-04-07 19:08:21\", \"serial\":272555, \"ip\":\"203.255.190.49\"}\n",
            "connectware/indoor/data/1501 {\"dust\":\"36,44\",\"co2\":\"395\",\"bme680\":\"23.99,20.44,4431631,100863,38.54\",\"time\":\"2024-04-07 19:08:22\", \"serial\":272556, \"ip\":\"203.255.190.49\"}\n",
            "connectware/indoor/data/1501 {\"dust\":\"36,43\",\"co2\":\"395\",\"bme680\":\"23.99,20.44,4453642,100863,38.54\",\"time\":\"2024-04-07 19:08:23\", \"serial\":272557, \"ip\":\"203.255.190.49\"}\n",
            "connectware/indoor/data/1501 {\"dust\":\"36,43\",\"co2\":\"395\",\"bme680\":\"23.99,20.43,4457332,100862,38.62\",\"time\":\"2024-04-07 19:08:24\", \"serial\":272558, \"ip\":\"203.255.190.49\"}\n",
            "connectware/indoor/data/1501 {\"dust\":\"37,44\",\"co2\":\"395\",\"bme680\":\"23.99,20.43,4468438,100862,38.62\",\"time\":\"2024-04-07 19:08:25\", \"serial\":272559, \"ip\":\"203.255.190.49\"}\n",
            "connectware/indoor/data/1501 {\"dust\":\"37,45\",\"co2\":\"395\",\"bme680\":\"23.99,20.43,4446281,100861,38.70\",\"time\":\"2024-04-07 19:08:26\", \"serial\":272560, \"ip\":\"203.255.190.49\"}\n"
          ]
        }
      ],
      "source": [
        "import paho.mqtt.client as mqtt\n",
        "\n",
        "def on_connect(client, userdata, flags, reason_code, properties):\n",
        "    print(f\"Connected with result code {reason_code}\")\n",
        "    client.subscribe(\"connectware/indoor/data/1501\")\n",
        "\n",
        "def on_message(client, userdata, msg):\n",
        "    doit(msg.topic, msg.payload.decode('utf8'))\n",
        "\n",
        "client = mqtt.Client(mqtt.CallbackAPIVersion.VERSION2)\n",
        "client.on_connect = on_connect\n",
        "client.on_message = on_message\n",
        "\n",
        "client.connect(\"damoa.io\", 1883, 60)\n",
        "client.loop_forever()"
      ]
    }
  ],
  "metadata": {
    "colab": {
      "provenance": [],
      "authorship_tag": "ABX9TyMjCCDBdk7c25xI46Bxu12d",
      "include_colab_link": true
    },
    "kernelspec": {
      "display_name": "Python 3",
      "name": "python3"
    },
    "language_info": {
      "name": "python"
    }
  },
  "nbformat": 4,
  "nbformat_minor": 0
}